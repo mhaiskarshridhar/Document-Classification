{
 "cells": [
  {
   "cell_type": "code",
   "execution_count": 1,
   "metadata": {},
   "outputs": [],
   "source": [
    "from sklearn.feature_extraction.text import TfidfVectorizer\n",
    "from sklearn.cluster import KMeans\n",
    "import re\n",
    "import string\n",
    "import pandas as pd\n",
    "from functools import reduce\n",
    "from math import log\n",
    "import matplotlib.pyplot as plt\n",
    "from sklearn.manifold import TSNE\n",
    "from sklearn.decomposition import TruncatedSVD"
   ]
  },
  {
   "cell_type": "markdown",
   "metadata": {},
   "source": [
    "Import data"
   ]
  },
  {
   "cell_type": "code",
   "execution_count": 2,
   "metadata": {},
   "outputs": [],
   "source": [
    "\n",
    "df_train= pd.read_excel(open(r'C:\\Users\\Mhaiskao\\Desktop\\Assignments\\Internship\\Websites.xlsx','rb'))  "
   ]
  },
  {
   "cell_type": "code",
   "execution_count": 3,
   "metadata": {},
   "outputs": [
    {
     "data": {
      "text/html": [
       "<div>\n",
       "<style scoped>\n",
       "    .dataframe tbody tr th:only-of-type {\n",
       "        vertical-align: middle;\n",
       "    }\n",
       "\n",
       "    .dataframe tbody tr th {\n",
       "        vertical-align: top;\n",
       "    }\n",
       "\n",
       "    .dataframe thead th {\n",
       "        text-align: right;\n",
       "    }\n",
       "</style>\n",
       "<table border=\"1\" class=\"dataframe\">\n",
       "  <thead>\n",
       "    <tr style=\"text-align: right;\">\n",
       "      <th></th>\n",
       "      <th>Website</th>\n",
       "      <th>Descp</th>\n",
       "    </tr>\n",
       "  </thead>\n",
       "  <tbody>\n",
       "    <tr>\n",
       "      <th>0</th>\n",
       "      <td>Gitlab.com</td>\n",
       "      <td>“From project planning and source code managem...</td>\n",
       "    </tr>\n",
       "    <tr>\n",
       "      <th>1</th>\n",
       "      <td>Cloudbees.com</td>\n",
       "      <td>“Reduce risk, optimize software delivery and a...</td>\n",
       "    </tr>\n",
       "    <tr>\n",
       "      <th>2</th>\n",
       "      <td>squarespace..com</td>\n",
       "      <td>“Squarespace is the all-in-one solution for an...</td>\n",
       "    </tr>\n",
       "    <tr>\n",
       "      <th>3</th>\n",
       "      <td>Wix.com</td>\n",
       "      <td>“Create a free website with Wix.com. Choose a...</td>\n",
       "    </tr>\n",
       "  </tbody>\n",
       "</table>\n",
       "</div>"
      ],
      "text/plain": [
       "            Website                                              Descp\n",
       "0        Gitlab.com  “From project planning and source code managem...\n",
       "1     Cloudbees.com  “Reduce risk, optimize software delivery and a...\n",
       "2  squarespace..com  “Squarespace is the all-in-one solution for an...\n",
       "3           Wix.com   “Create a free website with Wix.com. Choose a..."
      ]
     },
     "execution_count": 3,
     "metadata": {},
     "output_type": "execute_result"
    }
   ],
   "source": [
    "df_train"
   ]
  },
  {
   "cell_type": "markdown",
   "metadata": {},
   "source": [
    "Preprocessing and tokenizing"
   ]
  },
  {
   "cell_type": "code",
   "execution_count": 4,
   "metadata": {},
   "outputs": [],
   "source": [
    "#Change all words to lower case\n",
    "df_train['Descp']=df_train['Descp'].str.lower()\n",
    "\n",
    "#Remove punctuations and special characters\n",
    "df_train['Descp'] = df_train['Descp'].str.replace(\"[\\.\\,\\!\\?\\:\\;\\-\\=\\\"\\’\\'\\@\\+\\~\\“\\”]\",\"\")\n",
    "\n",
    "\n",
    "def preprocessing(line):\n",
    "    line = line.lower()\n",
    "    line = re.sub(r\"[{}]\".format(string.punctuation), \" \", line)\n",
    "    return line"
   ]
  },
  {
   "cell_type": "code",
   "execution_count": 5,
   "metadata": {},
   "outputs": [
    {
     "data": {
      "text/plain": [
       "['from project planning and source code management to ci/cd and\\nmonitoring gitlab is a complete devops platform delivered as a single application only\\ngitlab enables concurrent devops to make the software lifecycle 200% faster',\n",
       " 'reduce risk optimize software delivery and accelerate innovation with\\ncloudbees  the industryleading devops technology platform build stuff that matters',\n",
       " 'squarespace is the allinone solution for anyone looking to create a\\nbeautiful website domains ecommerce hosting galleries analytics and 24/7 support all\\nincluded',\n",
       " ' create a free website with wixcom choose a stunning template and\\ncustomize anything with the wix website builder—no coding skills needed create yours\\ntoday']"
      ]
     },
     "execution_count": 5,
     "metadata": {},
     "output_type": "execute_result"
    }
   ],
   "source": [
    "all_text=list(df_train['Descp'])\n",
    "\n",
    "all_text"
   ]
  },
  {
   "cell_type": "markdown",
   "metadata": {},
   "source": [
    "calculate tf-idf for this corpus"
   ]
  },
  {
   "cell_type": "code",
   "execution_count": 6,
   "metadata": {},
   "outputs": [],
   "source": [
    "tfidf_vectorizer = TfidfVectorizer(preprocessor=preprocessing)\n",
    "tfidf = tfidf_vectorizer.fit_transform(all_text)"
   ]
  },
  {
   "cell_type": "markdown",
   "metadata": {},
   "source": [
    "train kmeans model with k = 2"
   ]
  },
  {
   "cell_type": "code",
   "execution_count": 7,
   "metadata": {},
   "outputs": [],
   "source": [
    "kmeans = KMeans(n_clusters=2).fit(tfidf)"
   ]
  },
  {
   "cell_type": "markdown",
   "metadata": {},
   "source": [
    "Visualize the Clusters"
   ]
  },
  {
   "cell_type": "code",
   "execution_count": 8,
   "metadata": {},
   "outputs": [],
   "source": [
    "k = 2\n",
    "tfs_reduced = TruncatedSVD(n_components=k, random_state=0).fit_transform(tfidf)"
   ]
  },
  {
   "cell_type": "code",
   "execution_count": 9,
   "metadata": {
    "scrolled": true
   },
   "outputs": [
    {
     "name": "stdout",
     "output_type": "stream",
     "text": [
      "[t-SNE] Computing 3 nearest neighbors...\n",
      "[t-SNE] Indexed 4 samples in 0.001s...\n",
      "[t-SNE] Computed neighbors for 4 samples in 0.004s...\n",
      "[t-SNE] Computed conditional probabilities for sample 4 / 4\n",
      "[t-SNE] Mean sigma: 1125899906842624.000000\n",
      "[t-SNE] Computed conditional probabilities in 0.005s\n",
      "[t-SNE] Iteration 50: error = 49.2107391, gradient norm = 0.0233453 (50 iterations in 0.049s)\n",
      "[t-SNE] Iteration 100: error = 52.9550934, gradient norm = 0.2813206 (50 iterations in 0.040s)\n",
      "[t-SNE] Iteration 150: error = 38.5601997, gradient norm = 0.1034253 (50 iterations in 0.042s)\n",
      "[t-SNE] Iteration 200: error = 36.0737724, gradient norm = 0.3354649 (50 iterations in 0.034s)\n",
      "[t-SNE] Iteration 250: error = 36.5493355, gradient norm = 0.4300413 (50 iterations in 0.055s)\n",
      "[t-SNE] KL divergence after 250 iterations with early exaggeration: 36.549335\n",
      "[t-SNE] Iteration 300: error = 0.0515705, gradient norm = 0.0004332 (50 iterations in 0.037s)\n",
      "[t-SNE] Iteration 350: error = 0.0487560, gradient norm = 0.0000210 (50 iterations in 0.037s)\n",
      "[t-SNE] Iteration 400: error = 0.0487241, gradient norm = 0.0000003 (50 iterations in 0.036s)\n",
      "[t-SNE] Iteration 450: error = 0.0487242, gradient norm = 0.0000000 (50 iterations in 0.050s)\n",
      "[t-SNE] Iteration 450: gradient norm 0.000000. Finished.\n",
      "[t-SNE] KL divergence after 450 iterations: 0.048724\n"
     ]
    }
   ],
   "source": [
    "tfs_embedded = TSNE(n_components=2, perplexity=5, verbose=2).fit_transform(tfs_reduced)\n"
   ]
  },
  {
   "cell_type": "code",
   "execution_count": 10,
   "metadata": {},
   "outputs": [
    {
     "data": {
      "image/png": "[encoded data removed]",
      "text/plain": [
       "<Figure size 720x720 with 1 Axes>"
      ]
     },
     "metadata": {
      "needs_background": "light"
     },
     "output_type": "display_data"
    }
   ],
   "source": [
    "fig = plt.figure(figsize = (10, 10))\n",
    "ax = plt.axes()\n",
    "plt.scatter(tfs_embedded[:, 0], tfs_embedded[:, 1], marker = \"x\", c = kmeans.labels_)\n",
    "plt.show()"
   ]
  },
  {
   "cell_type": "markdown",
   "metadata": {},
   "source": [
    "Assign Cluster for all trianing data"
   ]
  },
  {
   "cell_type": "code",
   "execution_count": 11,
   "metadata": {},
   "outputs": [],
   "source": [
    "lines_for_predicting = all_text\n",
    "training_data_cluster=kmeans.predict(tfidf_vectorizer.transform(lines_for_predicting))"
   ]
  },
  {
   "cell_type": "code",
   "execution_count": 12,
   "metadata": {},
   "outputs": [
    {
     "data": {
      "text/plain": [
       "array([1, 1, 0, 0])"
      ]
     },
     "execution_count": 12,
     "metadata": {},
     "output_type": "execute_result"
    }
   ],
   "source": [
    "training_data_cluster"
   ]
  },
  {
   "cell_type": "code",
   "execution_count": 13,
   "metadata": {},
   "outputs": [],
   "source": [
    "df_train['Cluster']=pd.Series(training_data_cluster)"
   ]
  },
  {
   "cell_type": "markdown",
   "metadata": {},
   "source": [
    "Predictions on test data"
   ]
  },
  {
   "cell_type": "code",
   "execution_count": 14,
   "metadata": {},
   "outputs": [],
   "source": [
    "\n",
    "def recommend(input_website):\n",
    "    input_website_index=df_train.index[df_train['Website']==input_website].tolist()\n",
    "    description=df_train['Descp'][input_website_index[0]]\n",
    "    lines_for_predicting = [description]\n",
    "    test_data_cluster=kmeans.predict(tfidf_vectorizer.transform(lines_for_predicting))\n",
    "    index_list=df_train.index[df_train['Cluster']==test_data_cluster[0]].tolist()\n",
    "    return index_list,input_website_index\n",
    "    "
   ]
  },
  {
   "cell_type": "code",
   "execution_count": 15,
   "metadata": {},
   "outputs": [
    {
     "name": "stdout",
     "output_type": "stream",
     "text": [
      "Similar Websites:\n",
      "Gitlab.com\n"
     ]
    }
   ],
   "source": [
    "index_list,input_website_index=recommend('Cloudbees.com')\n",
    "\n",
    "\n",
    "print('Similar Websites:')\n",
    "for i in index_list:\n",
    "    if i == input_website_index[0]:\n",
    "        continue\n",
    "    else:\n",
    "        print(df_train['Website'][i])"
   ]
  },
  {
   "cell_type": "code",
   "execution_count": null,
   "metadata": {},
   "outputs": [],
   "source": []
  }
 ],
 "metadata": {
  "kernelspec": {
   "display_name": "Python 3",
   "language": "python",
   "name": "python3"
  },
  "language_info": {
   "codemirror_mode": {
    "name": "ipython",
    "version": 3
   },
   "file_extension": ".py",
   "mimetype": "text/x-python",
   "name": "python",
   "nbconvert_exporter": "python",
   "pygments_lexer": "ipython3",
   "version": "3.7.3"
  }
 },
 "nbformat": 4,
 "nbformat_minor": 2
}
