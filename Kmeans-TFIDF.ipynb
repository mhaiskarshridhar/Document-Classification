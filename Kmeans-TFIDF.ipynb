{
 "cells": [
  {
   "cell_type": "code",
   "execution_count": 1,
   "metadata": {},
   "outputs": [],
   "source": [
    "from sklearn.feature_extraction.text import TfidfVectorizer\n",
    "from sklearn.cluster import KMeans\n",
    "import re\n",
    "import string\n",
    "import pandas as pd\n",
    "from functools import reduce\n",
    "from math import log\n",
    "import matplotlib.pyplot as plt\n",
    "from sklearn.manifold import TSNE\n",
    "from sklearn.decomposition import TruncatedSVD"
   ]
  },
  {
   "cell_type": "markdown",
   "metadata": {},
   "source": [
    "Import data"
   ]
  },
  {
   "cell_type": "code",
   "execution_count": 2,
   "metadata": {},
   "outputs": [],
   "source": [
    "\n",
    "df_train= pd.read_excel(open(r'C:\\Users\\Mhaiskao\\Desktop\\Assignments\\Internship\\Websites.xlsx','rb'))  "
   ]
  },
  {
   "cell_type": "code",
   "execution_count": 3,
   "metadata": {},
   "outputs": [
    {
     "data": {
      "text/html": [
       "<div>\n",
       "<style scoped>\n",
       "    .dataframe tbody tr th:only-of-type {\n",
       "        vertical-align: middle;\n",
       "    }\n",
       "\n",
       "    .dataframe tbody tr th {\n",
       "        vertical-align: top;\n",
       "    }\n",
       "\n",
       "    .dataframe thead th {\n",
       "        text-align: right;\n",
       "    }\n",
       "</style>\n",
       "<table border=\"1\" class=\"dataframe\">\n",
       "  <thead>\n",
       "    <tr style=\"text-align: right;\">\n",
       "      <th></th>\n",
       "      <th>Website</th>\n",
       "      <th>Descp</th>\n",
       "    </tr>\n",
       "  </thead>\n",
       "  <tbody>\n",
       "    <tr>\n",
       "      <th>0</th>\n",
       "      <td>Gitlab.com</td>\n",
       "      <td>“From project planning and source code managem...</td>\n",
       "    </tr>\n",
       "    <tr>\n",
       "      <th>1</th>\n",
       "      <td>Cloudbees.com</td>\n",
       "      <td>“Reduce risk, optimize software delivery and a...</td>\n",
       "    </tr>\n",
       "    <tr>\n",
       "      <th>2</th>\n",
       "      <td>squarespace..com</td>\n",
       "      <td>“Squarespace is the all-in-one solution for an...</td>\n",
       "    </tr>\n",
       "    <tr>\n",
       "      <th>3</th>\n",
       "      <td>Wix.com</td>\n",
       "      <td>“Create a free website with Wix.com. Choose a...</td>\n",
       "    </tr>\n",
       "    <tr>\n",
       "      <th>4</th>\n",
       "      <td>Salesforce CRM</td>\n",
       "      <td>Salesforce helps businesses of all sizes accel...</td>\n",
       "    </tr>\n",
       "    <tr>\n",
       "      <th>5</th>\n",
       "      <td>HubSpot CRM</td>\n",
       "      <td>HubSpot is a leading growth platform. Since 20...</td>\n",
       "    </tr>\n",
       "    <tr>\n",
       "      <th>6</th>\n",
       "      <td>Freshsales</td>\n",
       "      <td>Freshsales is a sales CRM software by Freshwor...</td>\n",
       "    </tr>\n",
       "    <tr>\n",
       "      <th>7</th>\n",
       "      <td>Zoho CRM</td>\n",
       "      <td>Zoho CRM is a cloud-based, integrated customer...</td>\n",
       "    </tr>\n",
       "    <tr>\n",
       "      <th>8</th>\n",
       "      <td>Pipedrive</td>\n",
       "      <td>Pipedrive is a sales management tool for small...</td>\n",
       "    </tr>\n",
       "  </tbody>\n",
       "</table>\n",
       "</div>"
      ],
      "text/plain": [
       "            Website                                              Descp\n",
       "0        Gitlab.com  “From project planning and source code managem...\n",
       "1     Cloudbees.com  “Reduce risk, optimize software delivery and a...\n",
       "2  squarespace..com  “Squarespace is the all-in-one solution for an...\n",
       "3           Wix.com   “Create a free website with Wix.com. Choose a...\n",
       "4    Salesforce CRM  Salesforce helps businesses of all sizes accel...\n",
       "5       HubSpot CRM  HubSpot is a leading growth platform. Since 20...\n",
       "6        Freshsales  Freshsales is a sales CRM software by Freshwor...\n",
       "7          Zoho CRM  Zoho CRM is a cloud-based, integrated customer...\n",
       "8         Pipedrive  Pipedrive is a sales management tool for small..."
      ]
     },
     "execution_count": 3,
     "metadata": {},
     "output_type": "execute_result"
    }
   ],
   "source": [
    "df_train"
   ]
  },
  {
   "cell_type": "markdown",
   "metadata": {},
   "source": [
    "Preprocessing and tokenizing"
   ]
  },
  {
   "cell_type": "code",
   "execution_count": 4,
   "metadata": {},
   "outputs": [],
   "source": [
    "#Change all words to lower case\n",
    "df_train['Descp']=df_train['Descp'].str.lower()\n",
    "\n",
    "#Remove punctuations and special characters\n",
    "df_train['Descp'] = df_train['Descp'].str.replace(\"[\\.\\,\\!\\?\\:\\;\\-\\=\\\"\\’\\'\\@\\+\\~\\“\\”]\",\"\")\n",
    "\n",
    "\n",
    "def preprocessing(line):\n",
    "    line = line.lower()\n",
    "    line = re.sub(r\"[{}]\".format(string.punctuation), \" \", line)\n",
    "    return line"
   ]
  },
  {
   "cell_type": "code",
   "execution_count": 5,
   "metadata": {},
   "outputs": [
    {
     "data": {
      "text/plain": [
       "['from project planning and source code management to ci/cd and\\nmonitoring gitlab is a complete devops platform delivered as a single application only\\ngitlab enables concurrent devops to make the software lifecycle 200% faster',\n",
       " 'reduce risk optimize software delivery and accelerate innovation with\\ncloudbees  the industryleading devops technology platform build stuff that matters',\n",
       " 'squarespace is the allinone solution for anyone looking to create a\\nbeautiful website domains ecommerce hosting galleries analytics and 24/7 support all\\nincluded',\n",
       " ' create a free website with wixcom choose a stunning template and\\ncustomize anything with the wix website builder—no coding skills needed create yours\\ntoday',\n",
       " 'salesforce helps businesses of all sizes accelerate sales automate tasks and make smarter decisions so you can grow your business faster salesforce crm offers  lead & contact management  sales opportunity management  workflow rules & automation  customizable reports & dashboards  mobile application',\n",
       " 'hubspot is a leading growth platform since 2006 hubspot has been on a mission to make the world more inbound today over 68800 total customers in more than 100 countries use hubspots awardwinning software services and support to transform the way they attract engage and delight customers comprised of marketing hub sales hub service hub and a powerful free crm hubspot gives companies the tools they need to grow better hubspot crm is everything you need to organize track and nurture your leads and customers yes its 100% free forever',\n",
       " 'freshsales is a sales crm software by freshworks that makes it easy for businesses of all sizes to attract manage close and nurture their leads with a highly intuitive ui and a powerful feature set including builtin phone and email aibased lead scoring visual deal pipeline intelligent workflow automations and customizable visual reports and dashboards freshsales gives businesses everything they need to manage and scale their sales without having to juggle multiple tools freshsales is gdpr compliant and has several gdpr specific features and enhancements the freshsales marketplace currently hosts over 75 apps that can be seamlessly integrated with it to enhance productivity some of the key features in freshsales include builtin phone and email twoway email sync aibased lead scoring workflow automation visual sales pipeline ios and android apps the builtin email with twoway email sync ensures that sales reps never have to leave the crm to access their email inbox email tracking features enable users to know when and how many times an email was opened or a link was clicked on users can also create personalized sales campaigns using email templates insightful email metrics helps users understand which emails are performing well and which arent freshsales comes with a builtin phone powered by freshcaller which enables direct calling with a simple click on a contacts phone number users can set up buy local numbers enable call recording and set up ivrs in a matter of minutes users can also add notes schedule tasks as well as make appointments the 360degree view gives users indepth customer insights on prospects allow users to plan relevant conversations and keep track of touchpoints using the activity timeline freshsales collects data and segments activities based on a contacts behavior users can get perspective on leads with advanced lead scoring and prioritize important followups the visual sales pipeline provides complete visibility of deals across various stages users can sort and filter by close dates helping to make more guided decisions for climbing up the sales ladder the drag and drop navigation enables users to move deals across the sales pipeline into any stage visual sales reports and revenue analytics monitor sales progress and identify successful campaigns by source sales rep territory and more freshsales mobile apps for ios and android let users access deals while onthemove and stay uptodate on prospects at all times',\n",
       " 'zoho crm is a cloudbased integrated customer relationship management platform that caters to the needs of businesses and industries of all sizes and types over 150000 businesses across the world use zoho crm to build lasting customer relationships and maximize team productivity our expanded omnichannel support for phone email live chat social media and inperson meetings make zoho crm the most tightly integrated system in the market zohos aipowered sales assistant zia provides advanced interpretations solutions and predictions for salespeople your sales team can spend more time selling instead of entering data with the help of workflow automation lead scoring realtime notifications and builtin gamification our key features include  lead management  workflow automation  advanced analytics  process management  marketing automation  ios and android apps (with business card scanner)  developer platform automate routine sales marketing and support functions using zoho crm giving you more time to concentrate on your customers create optimized workflows that help you reduce manual data entry eliminate redundancies and speed up your overall process accelerate your sales teams productivity with accurate forecasts of potential revenue and make use of productivity games to exceed your sales quotas set up multiple currencies use ai predictions to prioritize leads and deals likely to convert and track website visitors to convert more prospects zia is an ai assistant included in zoho crm who can help you manage your crm data zia can fetch the information you want take notes predict the future of a sale detect anomalies automate tasks and more stay on top of every activity with zia get your marketing and sales teams on the same page generate new leads execute targeted email marketing campaigns and compare ad spending to sales revenue using the google ads integration your security is our top priority we understand that every organization needs to strike the right balance between protecting their customers data and giving employees the freedom to get their work done zoho crm succeeds in meeting both of these requirements use zoho crms developer platform and sdks to build and deploy secure scalable and enterpriseready solutions build integrated systems offer personalized user experiences and develop apps for both web',\n",
       " 'pipedrive is a sales management tool for small teams with big ambitions it visualises your sales pipeline and helps to make sure important activities and conversations wont get dropped salespeople really like it because its easy to use and intuitive and managers like it because they dont need to nag their team to use their crm it also sports builtin forecasting integrations with other software such as google apps mailchimp and zapier and a powerful api for those that like to roll their own software solutions full functionality for just $15 per month']"
      ]
     },
     "execution_count": 5,
     "metadata": {},
     "output_type": "execute_result"
    }
   ],
   "source": [
    "all_text=list(df_train['Descp'])\n",
    "\n",
    "all_text"
   ]
  },
  {
   "cell_type": "markdown",
   "metadata": {},
   "source": [
    "calculate tf-idf for this corpus"
   ]
  },
  {
   "cell_type": "code",
   "execution_count": 14,
   "metadata": {},
   "outputs": [],
   "source": [
    "tfidf_vectorizer = TfidfVectorizer(preprocessor=preprocessing)\n",
    "tfidf = tfidf_vectorizer.fit_transform(all_text)"
   ]
  },
  {
   "cell_type": "markdown",
   "metadata": {},
   "source": [
    "train kmeans model with k = 2"
   ]
  },
  {
   "cell_type": "code",
   "execution_count": 15,
   "metadata": {},
   "outputs": [],
   "source": [
    "kmeans = KMeans(n_clusters=3).fit(tfidf)"
   ]
  },
  {
   "cell_type": "markdown",
   "metadata": {},
   "source": [
    "Visualize the Clusters"
   ]
  },
  {
   "cell_type": "code",
   "execution_count": 16,
   "metadata": {},
   "outputs": [],
   "source": [
    "k = 3\n",
    "tfs_reduced = TruncatedSVD(n_components=k, random_state=0).fit_transform(tfidf)"
   ]
  },
  {
   "cell_type": "code",
   "execution_count": 17,
   "metadata": {
    "scrolled": true
   },
   "outputs": [
    {
     "name": "stdout",
     "output_type": "stream",
     "text": [
      "[t-SNE] Computing 8 nearest neighbors...\n",
      "[t-SNE] Indexed 9 samples in 0.000s...\n",
      "[t-SNE] Computed neighbors for 9 samples in 0.000s...\n",
      "[t-SNE] Computed conditional probabilities for sample 9 / 9\n",
      "[t-SNE] Mean sigma: 0.531904\n",
      "[t-SNE] Computed conditional probabilities in 0.000s\n",
      "[t-SNE] Iteration 50: error = 44.8448334, gradient norm = 0.1929556 (50 iterations in 0.007s)\n",
      "[t-SNE] Iteration 100: error = 41.3538818, gradient norm = 0.1411644 (50 iterations in 0.006s)\n",
      "[t-SNE] Iteration 150: error = 90.3233795, gradient norm = 0.2820180 (50 iterations in 0.007s)\n",
      "[t-SNE] Iteration 200: error = 51.3874359, gradient norm = 0.1427260 (50 iterations in 0.006s)\n",
      "[t-SNE] Iteration 250: error = 42.0790291, gradient norm = 0.2052802 (50 iterations in 0.005s)\n",
      "[t-SNE] KL divergence after 250 iterations with early exaggeration: 42.079029\n",
      "[t-SNE] Iteration 300: error = 0.1202346, gradient norm = 0.0013597 (50 iterations in 0.006s)\n",
      "[t-SNE] Iteration 350: error = 0.0661073, gradient norm = 0.0004913 (50 iterations in 0.005s)\n",
      "[t-SNE] Iteration 400: error = 0.0607630, gradient norm = 0.0000796 (50 iterations in 0.006s)\n",
      "[t-SNE] Iteration 450: error = 0.0604535, gradient norm = 0.0000659 (50 iterations in 0.005s)\n",
      "[t-SNE] Iteration 500: error = 0.0596536, gradient norm = 0.0001017 (50 iterations in 0.006s)\n",
      "[t-SNE] Iteration 550: error = 0.0608893, gradient norm = 0.0005116 (50 iterations in 0.005s)\n",
      "[t-SNE] Iteration 600: error = 0.0598635, gradient norm = 0.0018564 (50 iterations in 0.006s)\n",
      "[t-SNE] Iteration 650: error = 0.0597809, gradient norm = 0.0045144 (50 iterations in 0.005s)\n",
      "[t-SNE] Iteration 700: error = 0.0709922, gradient norm = 0.0035759 (50 iterations in 0.006s)\n",
      "[t-SNE] Iteration 750: error = 0.0613386, gradient norm = 0.0001362 (50 iterations in 0.005s)\n",
      "[t-SNE] Iteration 800: error = 0.0598772, gradient norm = 0.0001103 (50 iterations in 0.006s)\n",
      "[t-SNE] Iteration 850: error = 0.0596145, gradient norm = 0.0004156 (50 iterations in 0.006s)\n",
      "[t-SNE] Iteration 900: error = 0.0596570, gradient norm = 0.0001947 (50 iterations in 0.006s)\n",
      "[t-SNE] Iteration 950: error = 0.0592868, gradient norm = 0.0005555 (50 iterations in 0.006s)\n",
      "[t-SNE] Iteration 1000: error = 0.0602132, gradient norm = 0.0014700 (50 iterations in 0.006s)\n",
      "[t-SNE] KL divergence after 1000 iterations: 0.060213\n"
     ]
    }
   ],
   "source": [
    "tfs_embedded = TSNE(n_components=2, perplexity=5, verbose=2).fit_transform(tfs_reduced)\n"
   ]
  },
  {
   "cell_type": "code",
   "execution_count": 18,
   "metadata": {},
   "outputs": [
    {
     "data": {
      "image/png": "[encoded data removed]",
      "text/plain": [
       "<Figure size 720x720 with 1 Axes>"
      ]
     },
     "metadata": {
      "needs_background": "light"
     },
     "output_type": "display_data"
    }
   ],
   "source": [
    "fig = plt.figure(figsize = (10, 10))\n",
    "ax = plt.axes()\n",
    "plt.scatter(tfs_embedded[:, 0], tfs_embedded[:, 1], marker = \"x\", c = kmeans.labels_)\n",
    "plt.show()"
   ]
  },
  {
   "cell_type": "markdown",
   "metadata": {},
   "source": [
    "Assign Cluster for all trianing data"
   ]
  },
  {
   "cell_type": "code",
   "execution_count": 19,
   "metadata": {},
   "outputs": [],
   "source": [
    "lines_for_predicting = all_text\n",
    "training_data_cluster=kmeans.predict(tfidf_vectorizer.transform(lines_for_predicting))"
   ]
  },
  {
   "cell_type": "code",
   "execution_count": 20,
   "metadata": {},
   "outputs": [
    {
     "data": {
      "text/plain": [
       "array([0, 0, 2, 2, 1, 1, 1, 1, 1])"
      ]
     },
     "execution_count": 20,
     "metadata": {},
     "output_type": "execute_result"
    }
   ],
   "source": [
    "training_data_cluster"
   ]
  },
  {
   "cell_type": "code",
   "execution_count": 21,
   "metadata": {},
   "outputs": [],
   "source": [
    "df_train['Cluster']=pd.Series(training_data_cluster)"
   ]
  },
  {
   "cell_type": "markdown",
   "metadata": {},
   "source": [
    "Predictions on test data"
   ]
  },
  {
   "cell_type": "code",
   "execution_count": 22,
   "metadata": {},
   "outputs": [],
   "source": [
    "\n",
    "def recommend(input_website):\n",
    "    input_website_index=df_train.index[df_train['Website']==input_website].tolist()\n",
    "    description=df_train['Descp'][input_website_index[0]]\n",
    "    lines_for_predicting = [description]\n",
    "    test_data_cluster=kmeans.predict(tfidf_vectorizer.transform(lines_for_predicting))\n",
    "    index_list=df_train.index[df_train['Cluster']==test_data_cluster[0]].tolist()\n",
    "    return index_list,input_website_index\n",
    "    "
   ]
  },
  {
   "cell_type": "code",
   "execution_count": 23,
   "metadata": {},
   "outputs": [
    {
     "name": "stdout",
     "output_type": "stream",
     "text": [
      "Similar Websites:\n",
      "Salesforce CRM\n",
      "HubSpot CRM\n",
      "Freshsales\n",
      "Pipedrive\n"
     ]
    }
   ],
   "source": [
    "index_list,input_website_index=recommend('Zoho CRM')\n",
    "\n",
    "\n",
    "print('Similar Websites:')\n",
    "for i in index_list:\n",
    "    if i == input_website_index[0]:\n",
    "        continue\n",
    "    else:\n",
    "        print(df_train['Website'][i])"
   ]
  },
  {
   "cell_type": "code",
   "execution_count": null,
   "metadata": {},
   "outputs": [],
   "source": []
  }
 ],
 "metadata": {
  "kernelspec": {
   "display_name": "Python 3",
   "language": "python",
   "name": "python3"
  },
  "language_info": {
   "codemirror_mode": {
    "name": "ipython",
    "version": 3
   },
   "file_extension": ".py",
   "mimetype": "text/x-python",
   "name": "python",
   "nbconvert_exporter": "python",
   "pygments_lexer": "ipython3",
   "version": "3.7.3"
  }
 },
 "nbformat": 4,
 "nbformat_minor": 2
}
