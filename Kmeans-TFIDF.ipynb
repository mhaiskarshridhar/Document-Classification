{
 "cells": [
  {
   "cell_type": "code",
   "execution_count": 29,
   "metadata": {},
   "outputs": [],
   "source": [
    "from sklearn.feature_extraction.text import TfidfVectorizer\n",
    "from sklearn.cluster import KMeans\n",
    "import re\n",
    "import string\n",
    "import pandas as pd\n",
    "from functools import reduce\n",
    "from math import log\n",
    "from sklearn.manifold import TSNE\n",
    "from sklearn.decomposition import TruncatedSVD"
   ]
  },
  {
   "cell_type": "code",
   "execution_count": 30,
   "metadata": {},
   "outputs": [],
   "source": [
    "#Import data\n",
    "df_train= pd.read_excel(open(r'C:\\Users\\Mhaiskao\\Desktop\\Assignments\\Internship\\Websites.xlsx','rb'))  "
   ]
  },
  {
   "cell_type": "code",
   "execution_count": 31,
   "metadata": {},
   "outputs": [
    {
     "data": {
      "text/html": [
       "<div>\n",
       "<style scoped>\n",
       "    .dataframe tbody tr th:only-of-type {\n",
       "        vertical-align: middle;\n",
       "    }\n",
       "\n",
       "    .dataframe tbody tr th {\n",
       "        vertical-align: top;\n",
       "    }\n",
       "\n",
       "    .dataframe thead th {\n",
       "        text-align: right;\n",
       "    }\n",
       "</style>\n",
       "<table border=\"1\" class=\"dataframe\">\n",
       "  <thead>\n",
       "    <tr style=\"text-align: right;\">\n",
       "      <th></th>\n",
       "      <th>Website</th>\n",
       "      <th>Descp</th>\n",
       "    </tr>\n",
       "  </thead>\n",
       "  <tbody>\n",
       "    <tr>\n",
       "      <th>0</th>\n",
       "      <td>Gitlab.com</td>\n",
       "      <td>“From project planning and source code managem...</td>\n",
       "    </tr>\n",
       "    <tr>\n",
       "      <th>1</th>\n",
       "      <td>Cloudbees.com</td>\n",
       "      <td>“Reduce risk, optimize software delivery and a...</td>\n",
       "    </tr>\n",
       "    <tr>\n",
       "      <th>2</th>\n",
       "      <td>squarespace..com</td>\n",
       "      <td>“Squarespace is the all-in-one solution for an...</td>\n",
       "    </tr>\n",
       "    <tr>\n",
       "      <th>3</th>\n",
       "      <td>Wix.com</td>\n",
       "      <td>“Create a free website with Wix.com. Choose a...</td>\n",
       "    </tr>\n",
       "  </tbody>\n",
       "</table>\n",
       "</div>"
      ],
      "text/plain": [
       "            Website                                              Descp\n",
       "0        Gitlab.com  “From project planning and source code managem...\n",
       "1     Cloudbees.com  “Reduce risk, optimize software delivery and a...\n",
       "2  squarespace..com  “Squarespace is the all-in-one solution for an...\n",
       "3           Wix.com   “Create a free website with Wix.com. Choose a..."
      ]
     },
     "execution_count": 31,
     "metadata": {},
     "output_type": "execute_result"
    }
   ],
   "source": [
    "df_train"
   ]
  },
  {
   "cell_type": "code",
   "execution_count": 32,
   "metadata": {},
   "outputs": [],
   "source": [
    "#Change all words to lower case\n",
    "df_train['Descp']=df_train['Descp'].str.lower()\n",
    "\n",
    "#Remove punctuations and special characters\n",
    "df_train['Descp'] = df_train['Descp'].str.replace(\"[\\.\\,\\!\\?\\:\\;\\-\\=\\\"\\’\\'\\@\\+\\~\\“\\”]\",\"\")\n",
    "\n",
    "# Preprocessing and tokenizing\n",
    "def preprocessing(line):\n",
    "    line = line.lower()\n",
    "    line = re.sub(r\"[{}]\".format(string.punctuation), \" \", line)\n",
    "    return line"
   ]
  },
  {
   "cell_type": "code",
   "execution_count": 33,
   "metadata": {},
   "outputs": [
    {
     "data": {
      "text/plain": [
       "['from project planning and source code management to ci/cd and\\nmonitoring gitlab is a complete devops platform delivered as a single application only\\ngitlab enables concurrent devops to make the software lifecycle 200% faster',\n",
       " 'reduce risk optimize software delivery and accelerate innovation with\\ncloudbees  the industryleading devops technology platform build stuff that matters',\n",
       " 'squarespace is the allinone solution for anyone looking to create a\\nbeautiful website domains ecommerce hosting galleries analytics and 24/7 support all\\nincluded',\n",
       " ' create a free website with wixcom choose a stunning template and\\ncustomize anything with the wix website builder—no coding skills needed create yours\\ntoday']"
      ]
     },
     "execution_count": 33,
     "metadata": {},
     "output_type": "execute_result"
    }
   ],
   "source": [
    "all_text=list(df_train['Descp'])\n",
    "\n",
    "all_text"
   ]
  },
  {
   "cell_type": "code",
   "execution_count": 34,
   "metadata": {},
   "outputs": [],
   "source": [
    "#calculate tf-idf for this corpus\n",
    "\n",
    "tfidf_vectorizer = TfidfVectorizer(preprocessor=preprocessing)\n",
    "tfidf = tfidf_vectorizer.fit_transform(all_text)\n",
    "\n",
    "\n",
    "#train kmeans model with k = 2\n",
    "kmeans = KMeans(n_clusters=2).fit(tfidf)"
   ]
  },
  {
   "cell_type": "code",
   "execution_count": 36,
   "metadata": {},
   "outputs": [],
   "source": [
    "k = 2\n",
    "tfs_reduced = TruncatedSVD(n_components=k, random_state=0).fit_transform(tfidf)"
   ]
  },
  {
   "cell_type": "code",
   "execution_count": 37,
   "metadata": {
    "scrolled": true
   },
   "outputs": [
    {
     "name": "stdout",
     "output_type": "stream",
     "text": [
      "[t-SNE] Computing 3 nearest neighbors...\n",
      "[t-SNE] Indexed 4 samples in 0.000s...\n",
      "[t-SNE] Computed neighbors for 4 samples in 0.001s...\n",
      "[t-SNE] Computed conditional probabilities for sample 4 / 4\n",
      "[t-SNE] Mean sigma: 1125899906842624.000000\n",
      "[t-SNE] Computed conditional probabilities in 0.000s\n",
      "[t-SNE] Iteration 50: error = 47.4389381, gradient norm = 0.0473515 (50 iterations in 0.005s)\n",
      "[t-SNE] Iteration 100: error = 38.7736893, gradient norm = 0.0594478 (50 iterations in 0.007s)\n",
      "[t-SNE] Iteration 150: error = 48.7450371, gradient norm = 0.0276223 (50 iterations in 0.006s)\n",
      "[t-SNE] Iteration 200: error = 36.6689415, gradient norm = 0.0655434 (50 iterations in 0.006s)\n",
      "[t-SNE] Iteration 250: error = 43.3562737, gradient norm = 0.3294498 (50 iterations in 0.006s)\n",
      "[t-SNE] KL divergence after 250 iterations with early exaggeration: 43.356274\n",
      "[t-SNE] Iteration 300: error = 0.0492886, gradient norm = 0.0003319 (50 iterations in 0.005s)\n",
      "[t-SNE] Iteration 350: error = 0.0487214, gradient norm = 0.0000098 (50 iterations in 0.006s)\n",
      "[t-SNE] Iteration 400: error = 0.0487199, gradient norm = 0.0000002 (50 iterations in 0.005s)\n",
      "[t-SNE] Iteration 450: error = 0.0487198, gradient norm = 0.0000001 (50 iterations in 0.006s)\n",
      "[t-SNE] Iteration 500: error = 0.0487198, gradient norm = 0.0000001 (50 iterations in 0.006s)\n",
      "[t-SNE] Iteration 550: error = 0.0487198, gradient norm = 0.0000001 (50 iterations in 0.005s)\n",
      "[t-SNE] Iteration 600: error = 0.0487198, gradient norm = 0.0000001 (50 iterations in 0.005s)\n",
      "[t-SNE] Iteration 650: error = 0.0487197, gradient norm = 0.0000001 (50 iterations in 0.006s)\n",
      "[t-SNE] Iteration 700: error = 0.0487197, gradient norm = 0.0000001 (50 iterations in 0.005s)\n",
      "[t-SNE] Iteration 750: error = 0.0487197, gradient norm = 0.0000001 (50 iterations in 0.006s)\n",
      "[t-SNE] Iteration 800: error = 0.0487196, gradient norm = 0.0000001 (50 iterations in 0.006s)\n",
      "[t-SNE] Iteration 850: error = 0.0487196, gradient norm = 0.0000001 (50 iterations in 0.005s)\n",
      "[t-SNE] Iteration 900: error = 0.0487194, gradient norm = 0.0000001 (50 iterations in 0.005s)\n",
      "[t-SNE] Iteration 950: error = 0.0487194, gradient norm = 0.0000001 (50 iterations in 0.006s)\n",
      "[t-SNE] Iteration 1000: error = 0.0487194, gradient norm = 0.0000001 (50 iterations in 0.005s)\n",
      "[t-SNE] KL divergence after 1000 iterations: 0.048719\n"
     ]
    }
   ],
   "source": [
    "tfs_embedded = TSNE(n_components=2, perplexity=40, verbose=2).fit_transform(tfs_reduced)\n"
   ]
  },
  {
   "cell_type": "code",
   "execution_count": 38,
   "metadata": {},
   "outputs": [
    {
     "data": {
      "image/png": "[encoded data removed]",
      "text/plain": [
       "<Figure size 720x720 with 1 Axes>"
      ]
     },
     "metadata": {
      "needs_background": "light"
     },
     "output_type": "display_data"
    }
   ],
   "source": [
    "fig = plt.figure(figsize = (10, 10))\n",
    "ax = plt.axes()\n",
    "plt.scatter(tfs_embedded[:, 0], tfs_embedded[:, 1], marker = \"x\", c = kmeans.labels_)\n",
    "plt.show()"
   ]
  },
  {
   "cell_type": "code",
   "execution_count": 39,
   "metadata": {},
   "outputs": [],
   "source": [
    "#Assign Cluster for all trianing data\n",
    "\n",
    "lines_for_predicting = all_text\n",
    "same_cluster=kmeans.predict(tfidf_vectorizer.transform(lines_for_predicting))"
   ]
  },
  {
   "cell_type": "code",
   "execution_count": 40,
   "metadata": {},
   "outputs": [
    {
     "data": {
      "text/plain": [
       "array([1, 1, 0, 0])"
      ]
     },
     "execution_count": 40,
     "metadata": {},
     "output_type": "execute_result"
    }
   ],
   "source": [
    "same_cluster"
   ]
  },
  {
   "cell_type": "code",
   "execution_count": 41,
   "metadata": {},
   "outputs": [],
   "source": [
    "df_train['Cluster']=pd.Series(same_cluster)"
   ]
  },
  {
   "cell_type": "code",
   "execution_count": 42,
   "metadata": {},
   "outputs": [],
   "source": [
    "#Predictions\n",
    "\n",
    "lines_for_predicting = [\"template \"]\n",
    "same_cluster=kmeans.predict(tfidf_vectorizer.transform(lines_for_predicting))"
   ]
  },
  {
   "cell_type": "code",
   "execution_count": 43,
   "metadata": {},
   "outputs": [
    {
     "data": {
      "text/plain": [
       "array([0])"
      ]
     },
     "execution_count": 43,
     "metadata": {},
     "output_type": "execute_result"
    }
   ],
   "source": [
    "same_cluster"
   ]
  },
  {
   "cell_type": "code",
   "execution_count": 44,
   "metadata": {},
   "outputs": [
    {
     "data": {
      "text/plain": [
       "[2, 3]"
      ]
     },
     "execution_count": 44,
     "metadata": {},
     "output_type": "execute_result"
    }
   ],
   "source": [
    "index_list=df_train.index[df_train['Cluster']==same_cluster[0]].tolist()\n",
    "index_list"
   ]
  },
  {
   "cell_type": "code",
   "execution_count": 45,
   "metadata": {},
   "outputs": [
    {
     "name": "stdout",
     "output_type": "stream",
     "text": [
      "Similar Websites:\n",
      "squarespace..com\n",
      "Wix.com\n"
     ]
    }
   ],
   "source": [
    "print('Similar Websites:')\n",
    "for i in index_list:\n",
    "        print(df_train['Website'][i])"
   ]
  }
 ],
 "metadata": {
  "kernelspec": {
   "display_name": "Python 3",
   "language": "python",
   "name": "python3"
  },
  "language_info": {
   "codemirror_mode": {
    "name": "ipython",
    "version": 3
   },
   "file_extension": ".py",
   "mimetype": "text/x-python",
   "name": "python",
   "nbconvert_exporter": "python",
   "pygments_lexer": "ipython3",
   "version": "3.7.3"
  }
 },
 "nbformat": 4,
 "nbformat_minor": 2
}
